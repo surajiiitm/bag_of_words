{
 "cells": [
  {
   "cell_type": "code",
   "execution_count": 36,
   "metadata": {},
   "outputs": [],
   "source": [
    "# Word2vec, published by Google in 2013, is a neural network implementation that learns distributed representations for\n",
    "# words. Other deep or recurrent neural network architectures had been proposed for learning word representations prior to \n",
    "# this, but the major problem with these was the long time required to train the models. Word2vec learns quickly relative \n",
    "# to other models."
   ]
  },
  {
   "cell_type": "code",
   "execution_count": 37,
   "metadata": {},
   "outputs": [],
   "source": [
    "# Word2Vec does not need labels in order to create meaningful representations. This is useful, since most data in\n",
    "# the real world is unlabeled. If the network is given enough training data (tens of billions of words), it \n",
    "# produces word vectors with intriguing characteristics. Words with similar meanings appear in clusters, and \n",
    "# clusters are spaced such that some word relationships, such as analogies, can be reproduced using vector math.\n",
    "# The famous example is that, with highly trained word vectors, \"king - man + woman = queen.\""
   ]
  },
  {
   "cell_type": "code",
   "execution_count": 38,
   "metadata": {},
   "outputs": [],
   "source": [
    "# Word2Vec can learn from unlabeled data\n",
    "\n",
    "import pandas as pd\n",
    "train = pd.read_csv(\"labeledTrainData.tsv\", header=0, delimiter='\\t', quoting=3)\n",
    "test = pd.read_csv(\"testData.tsv\", header=0, delimiter='\\t', quoting=3)\n",
    "unlabeled_train = pd.read_csv(\"unlabeledTrainData.tsv\", header=0, delimiter='\\t', quoting=3)"
   ]
  },
  {
   "cell_type": "code",
   "execution_count": 39,
   "metadata": {},
   "outputs": [
    {
     "name": "stdout",
     "output_type": "stream",
     "text": [
      "read 25000 labled train data, 25000 labeled test data, 50000 unlabeled reviews\n"
     ]
    }
   ],
   "source": [
    "print( \"read %d labled train data, %d labeled test data, %d unlabeled reviews\" %(train[\"review\"].size, test[\"review\"].size, unlabeled_train[\"review\"].size))"
   ]
  },
  {
   "cell_type": "code",
   "execution_count": 40,
   "metadata": {},
   "outputs": [],
   "source": [
    "# to train Word2Vec it is better not to remove stop words because the algorithm relies on the broader context\n",
    "# of the sentence in order to produce high-quality word vectors\n",
    "\n",
    "# Import various model for clening the text\n",
    "from bs4 import BeautifulSoup\n",
    "import re\n",
    "from nltk.corpus import stopwords"
   ]
  },
  {
   "cell_type": "code",
   "execution_count": 76,
   "metadata": {},
   "outputs": [],
   "source": [
    "def review_to_wordlist(review, remove_stopwords=False):\n",
    "    # Function to convert a document to a sequence of words,\n",
    "    # optionally removing stop words.  Returns a list of words.\n",
    "    #\n",
    "    # 1. Remove HTML\n",
    "    review_text = BeautifulSoup(review).get_text()\n",
    "    #\n",
    "    # 2.remove non-letters\n",
    "    review_text = re.sub(\"[^a-zA-Z]\", \" \", review_text)\n",
    "    # 3. convert word to lower case and split\n",
    "    words = review_text.lower().split()\n",
    "    # 4. Optionally remove stop words (false by default)\n",
    "    if remove_stopwords:\n",
    "        stops = set(stopwords.words(\"english\"))\n",
    "        words = [w for w in words if not w in stops]\n",
    "    #\n",
    "    # 5. Return a list of words\n",
    "    return(words)"
   ]
  },
  {
   "cell_type": "code",
   "execution_count": 77,
   "metadata": {},
   "outputs": [],
   "source": [
    "# Word2Vec expects single sentences, each one as a list of words. In other words, \n",
    "# the input format is a list of lists.\n",
    "\n",
    "# Download the punkt tokenizer for sentence splitting\n",
    "import nltk.data\n",
    "\n",
    "# Load the punkt tokenizer\n",
    "tokenizer = nltk.data.load('tokenizers/punkt/english.pickle')"
   ]
  },
  {
   "cell_type": "code",
   "execution_count": 78,
   "metadata": {},
   "outputs": [],
   "source": [
    "# Define a function to split a review into parsed sentences\n",
    "def review_to_sentences( review, tokenizer, remove_stopwords=False ):\n",
    "    # Function to split a review into parsed sentences. Returns a \n",
    "    # list of sentences, where each sentence is a list of words\n",
    "    #\n",
    "    # 1. Use the NLTK tokenizer to split the paragraph into sentences\n",
    "    raw_sentences = tokenizer.tokenize(review.strip())\n",
    "#     print(raw_sentences)\n",
    "    #\n",
    "    # 2. Loop over each sentence\n",
    "    sentences = []\n",
    "    for raw_sentence in raw_sentences:\n",
    "        # If a sentence is empty, skip it\n",
    "        if len(raw_sentence) > 0:\n",
    "            # Otherwise, call review_to_wordlist to get a list of words\n",
    "            sentences.append( review_to_wordlist( raw_sentence, remove_stopwords ))\n",
    "    #\n",
    "    # Return the list of sentences (each sentence is a list of words,\n",
    "    # so this returns a list of lists\n",
    "    return sentences"
   ]
  },
  {
   "cell_type": "code",
   "execution_count": 79,
   "metadata": {},
   "outputs": [
    {
     "name": "stdout",
     "output_type": "stream",
     "text": [
      "parsing the sentence from training set\n"
     ]
    },
    {
     "name": "stderr",
     "output_type": "stream",
     "text": [
      "/usr/local/lib/python3.5/dist-packages/bs4/__init__.py:181: UserWarning: No parser was explicitly specified, so I'm using the best available HTML parser for this system (\"lxml\"). This usually isn't a problem, but if you run this code on another system, or in a different virtual environment, it may use a different parser and behave differently.\n",
      "\n",
      "The code that caused this warning is on line 184 of the file /usr/lib/python3.5/runpy.py. To get rid of this warning, change code that looks like this:\n",
      "\n",
      " BeautifulSoup([your markup])\n",
      "\n",
      "to this:\n",
      "\n",
      " BeautifulSoup([your markup], \"lxml\")\n",
      "\n",
      "  markup_type=markup_type))\n",
      "/usr/local/lib/python3.5/dist-packages/bs4/__init__.py:219: UserWarning: \"b'.'\" looks like a filename, not markup. You shouldprobably open this file and pass the filehandle intoBeautiful Soup.\n",
      "  'Beautiful Soup.' % markup)\n",
      "/usr/local/lib/python3.5/dist-packages/bs4/__init__.py:282: UserWarning: \"http://www.happierabroad.com\"\" looks like a URL. Beautiful Soup is not an HTTP client. You should probably use an HTTP client like requests to get the document behind the URL, and feed that document to Beautiful Soup.\n",
      "  ' that document to Beautiful Soup.' % decoded_markup\n"
     ]
    },
    {
     "name": "stdout",
     "output_type": "stream",
     "text": [
      "parsing sentence from unlabeled set\n"
     ]
    },
    {
     "name": "stderr",
     "output_type": "stream",
     "text": [
      "/usr/local/lib/python3.5/dist-packages/bs4/__init__.py:282: UserWarning: \"http://www.archive.org/details/LovefromaStranger\"\" looks like a URL. Beautiful Soup is not an HTTP client. You should probably use an HTTP client like requests to get the document behind the URL, and feed that document to Beautiful Soup.\n",
      "  ' that document to Beautiful Soup.' % decoded_markup\n",
      "/usr/local/lib/python3.5/dist-packages/bs4/__init__.py:282: UserWarning: \"http://www.loosechangeguide.com/LooseChangeGuide.html\"\" looks like a URL. Beautiful Soup is not an HTTP client. You should probably use an HTTP client like requests to get the document behind the URL, and feed that document to Beautiful Soup.\n",
      "  ' that document to Beautiful Soup.' % decoded_markup\n",
      "/usr/local/lib/python3.5/dist-packages/bs4/__init__.py:282: UserWarning: \"http://www.msnbc.msn.com/id/4972055/site/newsweek/\"\" looks like a URL. Beautiful Soup is not an HTTP client. You should probably use an HTTP client like requests to get the document behind the URL, and feed that document to Beautiful Soup.\n",
      "  ' that document to Beautiful Soup.' % decoded_markup\n",
      "/usr/local/lib/python3.5/dist-packages/bs4/__init__.py:219: UserWarning: \"b'..'\" looks like a filename, not markup. You shouldprobably open this file and pass the filehandle intoBeautiful Soup.\n",
      "  'Beautiful Soup.' % markup)\n",
      "/usr/local/lib/python3.5/dist-packages/bs4/__init__.py:282: UserWarning: \"http://www.youtube.com/watch?v=a0KSqelmgN8\"\" looks like a URL. Beautiful Soup is not an HTTP client. You should probably use an HTTP client like requests to get the document behind the URL, and feed that document to Beautiful Soup.\n",
      "  ' that document to Beautiful Soup.' % decoded_markup\n",
      "/usr/local/lib/python3.5/dist-packages/bs4/__init__.py:282: UserWarning: \"http://jake-weird.blogspot.com/2007/08/beneath.html\"\" looks like a URL. Beautiful Soup is not an HTTP client. You should probably use an HTTP client like requests to get the document behind the URL, and feed that document to Beautiful Soup.\n",
      "  ' that document to Beautiful Soup.' % decoded_markup\n"
     ]
    }
   ],
   "source": [
    "sentences = []\n",
    "\n",
    "print(\"parsing the sentence from training set\")\n",
    "for review in train[\"review\"]:\n",
    "    rev = review_to_sentences(review, tokenizer)\n",
    "    sentences += rev\n",
    "    \n",
    "print(\"parsing sentence from unlabeled set\")\n",
    "for review in unlabeled_train[\"review\"]:\n",
    "    sentences += review_to_sentences(review, tokenizer)"
   ]
  },
  {
   "cell_type": "code",
   "execution_count": 80,
   "metadata": {},
   "outputs": [
    {
     "data": {
      "text/plain": [
       "795538"
      ]
     },
     "execution_count": 80,
     "metadata": {},
     "output_type": "execute_result"
    }
   ],
   "source": [
    "len(sentences)"
   ]
  },
  {
   "cell_type": "code",
   "execution_count": 82,
   "metadata": {},
   "outputs": [
    {
     "name": "stdout",
     "output_type": "stream",
     "text": [
      "['with', 'all', 'this', 'stuff', 'going', 'down', 'at', 'the', 'moment', 'with', 'mj', 'i', 've', 'started', 'listening', 'to', 'his', 'music', 'watching', 'the', 'odd', 'documentary', 'here', 'and', 'there', 'watched', 'the', 'wiz', 'and', 'watched', 'moonwalker', 'again']\n"
     ]
    }
   ],
   "source": [
    "print(sentences[0])"
   ]
  },
  {
   "cell_type": "code",
   "execution_count": 83,
   "metadata": {},
   "outputs": [],
   "source": [
    "# Import the built-in logging module and configure it so that Word2Vec \n",
    "# creates nice output messages\n",
    "import logging\n",
    "logging.basicConfig(format='%(asctime)s : %(levelname)s : %(message)s',\\\n",
    "    level=logging.INFO)\n",
    "\n",
    "# Set values for various parameters\n",
    "num_features = 300    # Word vector dimensionality                      \n",
    "min_word_count = 40   # Minimum word count                        \n",
    "num_workers = 4       # Number of threads to run in parallel\n",
    "context = 10          # Context window size                                                                                    \n",
    "downsampling = 1e-3   # Downsample setting for frequent words"
   ]
  },
  {
   "cell_type": "code",
   "execution_count": 84,
   "metadata": {},
   "outputs": [
    {
     "name": "stderr",
     "output_type": "stream",
     "text": [
      "2018-03-20 15:55:09,852 : INFO : collecting all words and their counts\n",
      "2018-03-20 15:55:09,854 : INFO : PROGRESS: at sentence #0, processed 0 words, keeping 0 word types\n"
     ]
    },
    {
     "name": "stdout",
     "output_type": "stream",
     "text": [
      "Training model...\n"
     ]
    },
    {
     "name": "stderr",
     "output_type": "stream",
     "text": [
      "2018-03-20 15:55:09,958 : INFO : PROGRESS: at sentence #10000, processed 225803 words, keeping 17776 word types\n",
      "2018-03-20 15:55:10,024 : INFO : PROGRESS: at sentence #20000, processed 451892 words, keeping 24948 word types\n",
      "2018-03-20 15:55:10,078 : INFO : PROGRESS: at sentence #30000, processed 671315 words, keeping 30034 word types\n",
      "2018-03-20 15:55:10,140 : INFO : PROGRESS: at sentence #40000, processed 897815 words, keeping 34348 word types\n",
      "2018-03-20 15:55:10,195 : INFO : PROGRESS: at sentence #50000, processed 1116963 words, keeping 37761 word types\n",
      "2018-03-20 15:55:10,259 : INFO : PROGRESS: at sentence #60000, processed 1338404 words, keeping 40723 word types\n",
      "2018-03-20 15:55:10,318 : INFO : PROGRESS: at sentence #70000, processed 1561580 words, keeping 43333 word types\n",
      "2018-03-20 15:55:10,385 : INFO : PROGRESS: at sentence #80000, processed 1780887 words, keeping 45714 word types\n",
      "2018-03-20 15:55:10,458 : INFO : PROGRESS: at sentence #90000, processed 2004996 words, keeping 48135 word types\n",
      "2018-03-20 15:55:10,515 : INFO : PROGRESS: at sentence #100000, processed 2226966 words, keeping 50207 word types\n",
      "2018-03-20 15:55:10,573 : INFO : PROGRESS: at sentence #110000, processed 2446580 words, keeping 52081 word types\n",
      "2018-03-20 15:55:10,628 : INFO : PROGRESS: at sentence #120000, processed 2668775 words, keeping 54119 word types\n",
      "2018-03-20 15:55:10,689 : INFO : PROGRESS: at sentence #130000, processed 2894303 words, keeping 55847 word types\n",
      "2018-03-20 15:55:10,746 : INFO : PROGRESS: at sentence #140000, processed 3107005 words, keeping 57346 word types\n",
      "2018-03-20 15:55:10,805 : INFO : PROGRESS: at sentence #150000, processed 3332627 words, keeping 59055 word types\n",
      "2018-03-20 15:55:10,875 : INFO : PROGRESS: at sentence #160000, processed 3555315 words, keeping 60617 word types\n",
      "2018-03-20 15:55:10,937 : INFO : PROGRESS: at sentence #170000, processed 3778655 words, keeping 62077 word types\n",
      "2018-03-20 15:55:10,998 : INFO : PROGRESS: at sentence #180000, processed 3999236 words, keeping 63496 word types\n",
      "2018-03-20 15:55:11,057 : INFO : PROGRESS: at sentence #190000, processed 4224449 words, keeping 64794 word types\n",
      "2018-03-20 15:55:11,116 : INFO : PROGRESS: at sentence #200000, processed 4448603 words, keeping 66087 word types\n",
      "2018-03-20 15:55:11,178 : INFO : PROGRESS: at sentence #210000, processed 4669967 words, keeping 67390 word types\n",
      "2018-03-20 15:55:11,242 : INFO : PROGRESS: at sentence #220000, processed 4894968 words, keeping 68697 word types\n",
      "2018-03-20 15:55:11,310 : INFO : PROGRESS: at sentence #230000, processed 5117545 words, keeping 69958 word types\n",
      "2018-03-20 15:55:11,370 : INFO : PROGRESS: at sentence #240000, processed 5345050 words, keeping 71167 word types\n",
      "2018-03-20 15:55:11,438 : INFO : PROGRESS: at sentence #250000, processed 5559165 words, keeping 72351 word types\n",
      "2018-03-20 15:55:11,505 : INFO : PROGRESS: at sentence #260000, processed 5779146 words, keeping 73478 word types\n",
      "2018-03-20 15:55:11,572 : INFO : PROGRESS: at sentence #270000, processed 6000435 words, keeping 74767 word types\n",
      "2018-03-20 15:55:11,643 : INFO : PROGRESS: at sentence #280000, processed 6226314 words, keeping 76369 word types\n",
      "2018-03-20 15:55:11,718 : INFO : PROGRESS: at sentence #290000, processed 6449474 words, keeping 77839 word types\n",
      "2018-03-20 15:55:11,798 : INFO : PROGRESS: at sentence #300000, processed 6674077 words, keeping 79171 word types\n",
      "2018-03-20 15:55:11,874 : INFO : PROGRESS: at sentence #310000, processed 6899391 words, keeping 80480 word types\n",
      "2018-03-20 15:55:11,943 : INFO : PROGRESS: at sentence #320000, processed 7124278 words, keeping 81808 word types\n",
      "2018-03-20 15:55:12,011 : INFO : PROGRESS: at sentence #330000, processed 7346021 words, keeping 83030 word types\n",
      "2018-03-20 15:55:12,087 : INFO : PROGRESS: at sentence #340000, processed 7575533 words, keeping 84280 word types\n",
      "2018-03-20 15:55:12,147 : INFO : PROGRESS: at sentence #350000, processed 7798803 words, keeping 85425 word types\n",
      "2018-03-20 15:55:12,208 : INFO : PROGRESS: at sentence #360000, processed 8019427 words, keeping 86596 word types\n",
      "2018-03-20 15:55:12,275 : INFO : PROGRESS: at sentence #370000, processed 8246619 words, keeping 87708 word types\n",
      "2018-03-20 15:55:12,338 : INFO : PROGRESS: at sentence #380000, processed 8471766 words, keeping 88878 word types\n",
      "2018-03-20 15:55:12,404 : INFO : PROGRESS: at sentence #390000, processed 8701497 words, keeping 89907 word types\n",
      "2018-03-20 15:55:12,471 : INFO : PROGRESS: at sentence #400000, processed 8924446 words, keeping 90916 word types\n",
      "2018-03-20 15:55:12,529 : INFO : PROGRESS: at sentence #410000, processed 9145796 words, keeping 91880 word types\n",
      "2018-03-20 15:55:12,593 : INFO : PROGRESS: at sentence #420000, processed 9366876 words, keeping 92912 word types\n",
      "2018-03-20 15:55:12,651 : INFO : PROGRESS: at sentence #430000, processed 9594413 words, keeping 93932 word types\n",
      "2018-03-20 15:55:12,711 : INFO : PROGRESS: at sentence #440000, processed 9821166 words, keeping 94906 word types\n",
      "2018-03-20 15:55:12,777 : INFO : PROGRESS: at sentence #450000, processed 10044928 words, keeping 96036 word types\n",
      "2018-03-20 15:55:12,844 : INFO : PROGRESS: at sentence #460000, processed 10277688 words, keeping 97088 word types\n",
      "2018-03-20 15:55:12,899 : INFO : PROGRESS: at sentence #470000, processed 10505613 words, keeping 97933 word types\n",
      "2018-03-20 15:55:12,973 : INFO : PROGRESS: at sentence #480000, processed 10725997 words, keeping 98862 word types\n",
      "2018-03-20 15:55:13,029 : INFO : PROGRESS: at sentence #490000, processed 10952741 words, keeping 99871 word types\n",
      "2018-03-20 15:55:13,091 : INFO : PROGRESS: at sentence #500000, processed 11174397 words, keeping 100765 word types\n",
      "2018-03-20 15:55:13,151 : INFO : PROGRESS: at sentence #510000, processed 11399672 words, keeping 101699 word types\n",
      "2018-03-20 15:55:13,213 : INFO : PROGRESS: at sentence #520000, processed 11623020 words, keeping 102598 word types\n",
      "2018-03-20 15:55:13,276 : INFO : PROGRESS: at sentence #530000, processed 11847418 words, keeping 103400 word types\n",
      "2018-03-20 15:55:13,332 : INFO : PROGRESS: at sentence #540000, processed 12072033 words, keeping 104265 word types\n",
      "2018-03-20 15:55:13,393 : INFO : PROGRESS: at sentence #550000, processed 12297571 words, keeping 105133 word types\n",
      "2018-03-20 15:55:13,455 : INFO : PROGRESS: at sentence #560000, processed 12518861 words, keeping 105997 word types\n",
      "2018-03-20 15:55:13,516 : INFO : PROGRESS: at sentence #570000, processed 12747916 words, keeping 106787 word types\n",
      "2018-03-20 15:55:13,581 : INFO : PROGRESS: at sentence #580000, processed 12969412 words, keeping 107665 word types\n",
      "2018-03-20 15:55:13,641 : INFO : PROGRESS: at sentence #590000, processed 13194937 words, keeping 108501 word types\n",
      "2018-03-20 15:55:13,703 : INFO : PROGRESS: at sentence #600000, processed 13417135 words, keeping 109218 word types\n",
      "2018-03-20 15:55:13,771 : INFO : PROGRESS: at sentence #610000, processed 13638158 words, keeping 110092 word types\n",
      "2018-03-20 15:55:13,844 : INFO : PROGRESS: at sentence #620000, processed 13864483 words, keeping 110837 word types\n",
      "2018-03-20 15:55:13,901 : INFO : PROGRESS: at sentence #630000, processed 14088769 words, keeping 111610 word types\n",
      "2018-03-20 15:55:13,961 : INFO : PROGRESS: at sentence #640000, processed 14309552 words, keeping 112416 word types\n",
      "2018-03-20 15:55:14,023 : INFO : PROGRESS: at sentence #650000, processed 14535308 words, keeping 113196 word types\n",
      "2018-03-20 15:55:14,080 : INFO : PROGRESS: at sentence #660000, processed 14758098 words, keeping 113945 word types\n",
      "2018-03-20 15:55:14,144 : INFO : PROGRESS: at sentence #670000, processed 14981482 words, keeping 114643 word types\n",
      "2018-03-20 15:55:14,214 : INFO : PROGRESS: at sentence #680000, processed 15206314 words, keeping 115354 word types\n",
      "2018-03-20 15:55:14,272 : INFO : PROGRESS: at sentence #690000, processed 15428507 words, keeping 116131 word types\n",
      "2018-03-20 15:55:14,337 : INFO : PROGRESS: at sentence #700000, processed 15657213 words, keeping 116943 word types\n",
      "2018-03-20 15:55:14,401 : INFO : PROGRESS: at sentence #710000, processed 15880202 words, keeping 117596 word types\n",
      "2018-03-20 15:55:14,458 : INFO : PROGRESS: at sentence #720000, processed 16105489 words, keeping 118221 word types\n"
     ]
    },
    {
     "name": "stderr",
     "output_type": "stream",
     "text": [
      "2018-03-20 15:55:14,517 : INFO : PROGRESS: at sentence #730000, processed 16331870 words, keeping 118954 word types\n",
      "2018-03-20 15:55:14,578 : INFO : PROGRESS: at sentence #740000, processed 16552903 words, keeping 119668 word types\n",
      "2018-03-20 15:55:14,636 : INFO : PROGRESS: at sentence #750000, processed 16771230 words, keeping 120295 word types\n",
      "2018-03-20 15:55:14,693 : INFO : PROGRESS: at sentence #760000, processed 16990622 words, keeping 120930 word types\n",
      "2018-03-20 15:55:14,764 : INFO : PROGRESS: at sentence #770000, processed 17217759 words, keeping 121703 word types\n",
      "2018-03-20 15:55:14,839 : INFO : PROGRESS: at sentence #780000, processed 17447905 words, keeping 122402 word types\n",
      "2018-03-20 15:55:14,913 : INFO : PROGRESS: at sentence #790000, processed 17674981 words, keeping 123066 word types\n",
      "2018-03-20 15:55:14,952 : INFO : collected 123504 word types from a corpus of 17798082 raw words and 795538 sentences\n",
      "2018-03-20 15:55:14,954 : INFO : Loading a fresh vocabulary\n",
      "2018-03-20 15:55:15,705 : INFO : min_count=40 retains 16490 unique words (13% of original 123504, drops 107014)\n",
      "2018-03-20 15:55:15,706 : INFO : min_count=40 leaves 17238940 word corpus (96% of original 17798082, drops 559142)\n",
      "2018-03-20 15:55:15,956 : INFO : deleting the raw counts dictionary of 123504 items\n",
      "2018-03-20 15:55:15,961 : INFO : sample=0.001 downsamples 48 most-common words\n",
      "2018-03-20 15:55:15,962 : INFO : downsampling leaves estimated 12749658 word corpus (74.0% of prior 17238940)\n",
      "2018-03-20 15:55:16,046 : INFO : estimated required memory for 16490 words and 300 dimensions: 47821000 bytes\n",
      "2018-03-20 15:55:16,047 : INFO : resetting layer weights\n",
      "2018-03-20 15:55:16,346 : INFO : training model with 4 workers on 16490 vocabulary and 300 features, using sg=0 hs=0 sample=0.001 negative=5 window=10\n",
      "2018-03-20 15:55:17,362 : INFO : EPOCH 1 - PROGRESS: at 3.42% examples, 433157 words/s, in_qsize 7, out_qsize 0\n",
      "2018-03-20 15:55:18,387 : INFO : EPOCH 1 - PROGRESS: at 7.54% examples, 471224 words/s, in_qsize 7, out_qsize 0\n",
      "2018-03-20 15:55:19,407 : INFO : EPOCH 1 - PROGRESS: at 11.79% examples, 489595 words/s, in_qsize 8, out_qsize 0\n",
      "2018-03-20 15:55:20,408 : INFO : EPOCH 1 - PROGRESS: at 15.73% examples, 492334 words/s, in_qsize 7, out_qsize 0\n",
      "2018-03-20 15:55:21,438 : INFO : EPOCH 1 - PROGRESS: at 19.81% examples, 493745 words/s, in_qsize 7, out_qsize 0\n",
      "2018-03-20 15:55:22,439 : INFO : EPOCH 1 - PROGRESS: at 23.76% examples, 494850 words/s, in_qsize 7, out_qsize 0\n",
      "2018-03-20 15:55:23,442 : INFO : EPOCH 1 - PROGRESS: at 27.63% examples, 494465 words/s, in_qsize 6, out_qsize 1\n",
      "2018-03-20 15:55:24,456 : INFO : EPOCH 1 - PROGRESS: at 31.67% examples, 495217 words/s, in_qsize 7, out_qsize 0\n",
      "2018-03-20 15:55:25,474 : INFO : EPOCH 1 - PROGRESS: at 35.50% examples, 493178 words/s, in_qsize 7, out_qsize 0\n",
      "2018-03-20 15:55:26,495 : INFO : EPOCH 1 - PROGRESS: at 39.25% examples, 490813 words/s, in_qsize 7, out_qsize 0\n",
      "2018-03-20 15:55:27,524 : INFO : EPOCH 1 - PROGRESS: at 42.86% examples, 487249 words/s, in_qsize 7, out_qsize 0\n",
      "2018-03-20 15:55:28,524 : INFO : EPOCH 1 - PROGRESS: at 46.61% examples, 486549 words/s, in_qsize 8, out_qsize 1\n",
      "2018-03-20 15:55:29,538 : INFO : EPOCH 1 - PROGRESS: at 50.74% examples, 489298 words/s, in_qsize 7, out_qsize 0\n",
      "2018-03-20 15:55:30,543 : INFO : EPOCH 1 - PROGRESS: at 54.49% examples, 488399 words/s, in_qsize 7, out_qsize 0\n",
      "2018-03-20 15:55:31,552 : INFO : EPOCH 1 - PROGRESS: at 58.01% examples, 486035 words/s, in_qsize 7, out_qsize 0\n",
      "2018-03-20 15:55:32,591 : INFO : EPOCH 1 - PROGRESS: at 61.64% examples, 483572 words/s, in_qsize 7, out_qsize 0\n",
      "2018-03-20 15:55:33,608 : INFO : EPOCH 1 - PROGRESS: at 65.12% examples, 480773 words/s, in_qsize 7, out_qsize 0\n",
      "2018-03-20 15:55:34,613 : INFO : EPOCH 1 - PROGRESS: at 68.72% examples, 479383 words/s, in_qsize 7, out_qsize 0\n",
      "2018-03-20 15:55:35,622 : INFO : EPOCH 1 - PROGRESS: at 72.21% examples, 477666 words/s, in_qsize 5, out_qsize 2\n",
      "2018-03-20 15:55:36,623 : INFO : EPOCH 1 - PROGRESS: at 76.10% examples, 478433 words/s, in_qsize 7, out_qsize 0\n",
      "2018-03-20 15:55:37,626 : INFO : EPOCH 1 - PROGRESS: at 79.46% examples, 476051 words/s, in_qsize 7, out_qsize 0\n",
      "2018-03-20 15:55:38,634 : INFO : EPOCH 1 - PROGRESS: at 82.82% examples, 473759 words/s, in_qsize 7, out_qsize 0\n",
      "2018-03-20 15:55:39,654 : INFO : EPOCH 1 - PROGRESS: at 86.48% examples, 472969 words/s, in_qsize 7, out_qsize 0\n",
      "2018-03-20 15:55:40,657 : INFO : EPOCH 1 - PROGRESS: at 89.63% examples, 470220 words/s, in_qsize 7, out_qsize 0\n",
      "2018-03-20 15:55:41,681 : INFO : EPOCH 1 - PROGRESS: at 93.01% examples, 468150 words/s, in_qsize 7, out_qsize 0\n",
      "2018-03-20 15:55:42,683 : INFO : EPOCH 1 - PROGRESS: at 96.80% examples, 468529 words/s, in_qsize 7, out_qsize 0\n",
      "2018-03-20 15:55:43,506 : INFO : worker thread finished; awaiting finish of 3 more threads\n",
      "2018-03-20 15:55:43,536 : INFO : worker thread finished; awaiting finish of 2 more threads\n",
      "2018-03-20 15:55:43,542 : INFO : worker thread finished; awaiting finish of 1 more threads\n",
      "2018-03-20 15:55:43,545 : INFO : worker thread finished; awaiting finish of 0 more threads\n",
      "2018-03-20 15:55:43,546 : INFO : EPOCH - 1 : training on 17798082 raw words (12750594 effective words) took 27.2s, 468918 effective words/s\n",
      "2018-03-20 15:55:44,567 : INFO : EPOCH 2 - PROGRESS: at 3.19% examples, 403074 words/s, in_qsize 7, out_qsize 0\n",
      "2018-03-20 15:55:45,613 : INFO : EPOCH 2 - PROGRESS: at 6.96% examples, 430655 words/s, in_qsize 8, out_qsize 0\n",
      "2018-03-20 15:55:46,625 : INFO : EPOCH 2 - PROGRESS: at 10.32% examples, 426325 words/s, in_qsize 7, out_qsize 0\n",
      "2018-03-20 15:55:47,641 : INFO : EPOCH 2 - PROGRESS: at 13.77% examples, 427172 words/s, in_qsize 7, out_qsize 0\n",
      "2018-03-20 15:55:48,645 : INFO : EPOCH 2 - PROGRESS: at 17.69% examples, 439895 words/s, in_qsize 6, out_qsize 1\n",
      "2018-03-20 15:55:49,710 : INFO : EPOCH 2 - PROGRESS: at 21.40% examples, 440377 words/s, in_qsize 5, out_qsize 2\n",
      "2018-03-20 15:55:50,758 : INFO : EPOCH 2 - PROGRESS: at 24.67% examples, 433950 words/s, in_qsize 6, out_qsize 1\n",
      "2018-03-20 15:55:51,759 : INFO : EPOCH 2 - PROGRESS: at 27.80% examples, 429724 words/s, in_qsize 7, out_qsize 0\n",
      "2018-03-20 15:55:52,766 : INFO : EPOCH 2 - PROGRESS: at 31.56% examples, 433964 words/s, in_qsize 6, out_qsize 1\n",
      "2018-03-20 15:55:53,768 : INFO : EPOCH 2 - PROGRESS: at 35.61% examples, 441729 words/s, in_qsize 7, out_qsize 0\n",
      "2018-03-20 15:55:54,771 : INFO : EPOCH 2 - PROGRESS: at 39.54% examples, 446887 words/s, in_qsize 6, out_qsize 1\n",
      "2018-03-20 15:55:55,795 : INFO : EPOCH 2 - PROGRESS: at 43.25% examples, 448689 words/s, in_qsize 8, out_qsize 0\n",
      "2018-03-20 15:55:56,800 : INFO : EPOCH 2 - PROGRESS: at 47.28% examples, 453464 words/s, in_qsize 7, out_qsize 0\n",
      "2018-03-20 15:55:57,817 : INFO : EPOCH 2 - PROGRESS: at 51.26% examples, 456772 words/s, in_qsize 8, out_qsize 1\n",
      "2018-03-20 15:55:58,825 : INFO : EPOCH 2 - PROGRESS: at 55.15% examples, 459367 words/s, in_qsize 7, out_qsize 0\n",
      "2018-03-20 15:55:59,836 : INFO : EPOCH 2 - PROGRESS: at 59.06% examples, 461983 words/s, in_qsize 7, out_qsize 0\n",
      "2018-03-20 15:56:00,844 : INFO : EPOCH 2 - PROGRESS: at 62.60% examples, 461108 words/s, in_qsize 8, out_qsize 0\n",
      "2018-03-20 15:56:01,862 : INFO : EPOCH 2 - PROGRESS: at 66.63% examples, 463634 words/s, in_qsize 7, out_qsize 0\n",
      "2018-03-20 15:56:02,876 : INFO : EPOCH 2 - PROGRESS: at 70.60% examples, 465549 words/s, in_qsize 7, out_qsize 0\n",
      "2018-03-20 15:56:03,905 : INFO : EPOCH 2 - PROGRESS: at 74.85% examples, 468719 words/s, in_qsize 7, out_qsize 0\n",
      "2018-03-20 15:56:04,909 : INFO : EPOCH 2 - PROGRESS: at 79.01% examples, 471459 words/s, in_qsize 7, out_qsize 0\n",
      "2018-03-20 15:56:05,915 : INFO : EPOCH 2 - PROGRESS: at 83.17% examples, 473906 words/s, in_qsize 7, out_qsize 0\n",
      "2018-03-20 15:56:06,929 : INFO : EPOCH 2 - PROGRESS: at 87.37% examples, 476287 words/s, in_qsize 7, out_qsize 0\n",
      "2018-03-20 15:56:07,937 : INFO : EPOCH 2 - PROGRESS: at 91.49% examples, 478315 words/s, in_qsize 7, out_qsize 0\n",
      "2018-03-20 15:56:08,960 : INFO : EPOCH 2 - PROGRESS: at 95.76% examples, 480156 words/s, in_qsize 7, out_qsize 0\n",
      "2018-03-20 15:56:09,942 : INFO : worker thread finished; awaiting finish of 3 more threads\n",
      "2018-03-20 15:56:09,960 : INFO : worker thread finished; awaiting finish of 2 more threads\n"
     ]
    },
    {
     "name": "stderr",
     "output_type": "stream",
     "text": [
      "2018-03-20 15:56:09,966 : INFO : EPOCH 2 - PROGRESS: at 99.94% examples, 482472 words/s, in_qsize 1, out_qsize 1\n",
      "2018-03-20 15:56:09,966 : INFO : worker thread finished; awaiting finish of 1 more threads\n",
      "2018-03-20 15:56:09,977 : INFO : worker thread finished; awaiting finish of 0 more threads\n",
      "2018-03-20 15:56:09,978 : INFO : EPOCH - 2 : training on 17798082 raw words (12749071 effective words) took 26.4s, 482510 effective words/s\n",
      "2018-03-20 15:56:10,992 : INFO : EPOCH 3 - PROGRESS: at 4.05% examples, 511613 words/s, in_qsize 7, out_qsize 0\n",
      "2018-03-20 15:56:12,010 : INFO : EPOCH 3 - PROGRESS: at 8.11% examples, 508217 words/s, in_qsize 7, out_qsize 0\n",
      "2018-03-20 15:56:13,029 : INFO : EPOCH 3 - PROGRESS: at 12.12% examples, 505017 words/s, in_qsize 7, out_qsize 0\n",
      "2018-03-20 15:56:14,041 : INFO : EPOCH 3 - PROGRESS: at 15.84% examples, 495557 words/s, in_qsize 7, out_qsize 0\n",
      "2018-03-20 15:56:15,041 : INFO : EPOCH 3 - PROGRESS: at 20.05% examples, 502068 words/s, in_qsize 7, out_qsize 0\n",
      "2018-03-20 15:56:16,043 : INFO : EPOCH 3 - PROGRESS: at 24.15% examples, 505243 words/s, in_qsize 7, out_qsize 0\n",
      "2018-03-20 15:56:17,048 : INFO : EPOCH 3 - PROGRESS: at 28.31% examples, 508141 words/s, in_qsize 7, out_qsize 0\n",
      "2018-03-20 15:56:18,055 : INFO : EPOCH 3 - PROGRESS: at 32.46% examples, 509268 words/s, in_qsize 7, out_qsize 0\n",
      "2018-03-20 15:56:19,062 : INFO : EPOCH 3 - PROGRESS: at 36.68% examples, 511888 words/s, in_qsize 7, out_qsize 0\n",
      "2018-03-20 15:56:20,063 : INFO : EPOCH 3 - PROGRESS: at 40.80% examples, 513522 words/s, in_qsize 7, out_qsize 0\n",
      "2018-03-20 15:56:21,064 : INFO : EPOCH 3 - PROGRESS: at 44.95% examples, 514926 words/s, in_qsize 7, out_qsize 0\n",
      "2018-03-20 15:56:22,079 : INFO : EPOCH 3 - PROGRESS: at 49.10% examples, 516014 words/s, in_qsize 7, out_qsize 0\n",
      "2018-03-20 15:56:23,090 : INFO : EPOCH 3 - PROGRESS: at 53.22% examples, 516057 words/s, in_qsize 7, out_qsize 0\n",
      "2018-03-20 15:56:24,091 : INFO : EPOCH 3 - PROGRESS: at 57.31% examples, 516868 words/s, in_qsize 7, out_qsize 0\n",
      "2018-03-20 15:56:25,107 : INFO : EPOCH 3 - PROGRESS: at 61.47% examples, 517617 words/s, in_qsize 7, out_qsize 0\n",
      "2018-03-20 15:56:26,107 : INFO : EPOCH 3 - PROGRESS: at 65.63% examples, 518319 words/s, in_qsize 7, out_qsize 0\n",
      "2018-03-20 15:56:27,113 : INFO : EPOCH 3 - PROGRESS: at 69.76% examples, 518792 words/s, in_qsize 7, out_qsize 0\n",
      "2018-03-20 15:56:28,129 : INFO : EPOCH 3 - PROGRESS: at 73.12% examples, 513402 words/s, in_qsize 6, out_qsize 1\n",
      "2018-03-20 15:56:29,164 : INFO : EPOCH 3 - PROGRESS: at 76.33% examples, 506957 words/s, in_qsize 7, out_qsize 0\n",
      "2018-03-20 15:56:30,167 : INFO : EPOCH 3 - PROGRESS: at 80.15% examples, 505838 words/s, in_qsize 7, out_qsize 0\n",
      "2018-03-20 15:56:31,171 : INFO : EPOCH 3 - PROGRESS: at 83.95% examples, 504819 words/s, in_qsize 7, out_qsize 0\n",
      "2018-03-20 15:56:32,197 : INFO : EPOCH 3 - PROGRESS: at 86.19% examples, 494402 words/s, in_qsize 8, out_qsize 0\n",
      "2018-03-20 15:56:33,212 : INFO : EPOCH 3 - PROGRESS: at 89.19% examples, 489390 words/s, in_qsize 8, out_qsize 1\n",
      "2018-03-20 15:56:34,239 : INFO : EPOCH 3 - PROGRESS: at 92.39% examples, 485498 words/s, in_qsize 6, out_qsize 1\n",
      "2018-03-20 15:56:35,239 : INFO : EPOCH 3 - PROGRESS: at 95.41% examples, 481281 words/s, in_qsize 7, out_qsize 0\n",
      "2018-03-20 15:56:36,266 : INFO : EPOCH 3 - PROGRESS: at 99.11% examples, 480716 words/s, in_qsize 7, out_qsize 0\n",
      "2018-03-20 15:56:36,444 : INFO : worker thread finished; awaiting finish of 3 more threads\n",
      "2018-03-20 15:56:36,449 : INFO : worker thread finished; awaiting finish of 2 more threads\n",
      "2018-03-20 15:56:36,468 : INFO : worker thread finished; awaiting finish of 1 more threads\n",
      "2018-03-20 15:56:36,476 : INFO : worker thread finished; awaiting finish of 0 more threads\n",
      "2018-03-20 15:56:36,477 : INFO : EPOCH - 3 : training on 17798082 raw words (12747642 effective words) took 26.5s, 481196 effective words/s\n",
      "2018-03-20 15:56:37,490 : INFO : EPOCH 4 - PROGRESS: at 2.50% examples, 320670 words/s, in_qsize 7, out_qsize 0\n",
      "2018-03-20 15:56:38,493 : INFO : EPOCH 4 - PROGRESS: at 4.81% examples, 306495 words/s, in_qsize 6, out_qsize 1\n",
      "2018-03-20 15:56:39,537 : INFO : EPOCH 4 - PROGRESS: at 7.88% examples, 328122 words/s, in_qsize 7, out_qsize 0\n",
      "2018-03-20 15:56:40,540 : INFO : EPOCH 4 - PROGRESS: at 10.21% examples, 319333 words/s, in_qsize 8, out_qsize 0\n",
      "2018-03-20 15:56:41,546 : INFO : EPOCH 4 - PROGRESS: at 12.40% examples, 311007 words/s, in_qsize 7, out_qsize 0\n",
      "2018-03-20 15:56:42,564 : INFO : EPOCH 4 - PROGRESS: at 15.01% examples, 313078 words/s, in_qsize 7, out_qsize 0\n",
      "2018-03-20 15:56:43,581 : INFO : EPOCH 4 - PROGRESS: at 17.23% examples, 307554 words/s, in_qsize 8, out_qsize 0\n",
      "2018-03-20 15:56:44,591 : INFO : EPOCH 4 - PROGRESS: at 19.66% examples, 307043 words/s, in_qsize 6, out_qsize 1\n",
      "2018-03-20 15:56:45,609 : INFO : EPOCH 4 - PROGRESS: at 21.97% examples, 304910 words/s, in_qsize 8, out_qsize 1\n",
      "2018-03-20 15:56:46,629 : INFO : EPOCH 4 - PROGRESS: at 24.56% examples, 306692 words/s, in_qsize 8, out_qsize 0\n",
      "2018-03-20 15:56:47,632 : INFO : EPOCH 4 - PROGRESS: at 26.75% examples, 304098 words/s, in_qsize 7, out_qsize 0\n",
      "2018-03-20 15:56:48,640 : INFO : EPOCH 4 - PROGRESS: at 28.88% examples, 301182 words/s, in_qsize 7, out_qsize 0\n",
      "2018-03-20 15:56:49,662 : INFO : EPOCH 4 - PROGRESS: at 30.92% examples, 297317 words/s, in_qsize 7, out_qsize 0\n",
      "2018-03-20 15:56:50,699 : INFO : EPOCH 4 - PROGRESS: at 33.32% examples, 296720 words/s, in_qsize 7, out_qsize 0\n",
      "2018-03-20 15:56:51,708 : INFO : EPOCH 4 - PROGRESS: at 35.67% examples, 296764 words/s, in_qsize 7, out_qsize 0\n",
      "2018-03-20 15:56:52,739 : INFO : EPOCH 4 - PROGRESS: at 38.24% examples, 298479 words/s, in_qsize 7, out_qsize 0\n",
      "2018-03-20 15:56:53,750 : INFO : EPOCH 4 - PROGRESS: at 40.92% examples, 300650 words/s, in_qsize 7, out_qsize 0\n",
      "2018-03-20 15:56:54,790 : INFO : EPOCH 4 - PROGRESS: at 43.81% examples, 303920 words/s, in_qsize 6, out_qsize 1\n",
      "2018-03-20 15:56:55,796 : INFO : EPOCH 4 - PROGRESS: at 46.28% examples, 304365 words/s, in_qsize 7, out_qsize 0\n",
      "2018-03-20 15:56:56,830 : INFO : EPOCH 4 - PROGRESS: at 48.49% examples, 302942 words/s, in_qsize 7, out_qsize 0\n",
      "2018-03-20 15:56:57,870 : INFO : EPOCH 4 - PROGRESS: at 51.52% examples, 306272 words/s, in_qsize 7, out_qsize 0\n",
      "2018-03-20 15:56:58,912 : INFO : EPOCH 4 - PROGRESS: at 53.99% examples, 306076 words/s, in_qsize 7, out_qsize 2\n",
      "2018-03-20 15:56:59,950 : INFO : EPOCH 4 - PROGRESS: at 56.43% examples, 305923 words/s, in_qsize 7, out_qsize 0\n",
      "2018-03-20 15:57:00,960 : INFO : EPOCH 4 - PROGRESS: at 59.00% examples, 307033 words/s, in_qsize 7, out_qsize 0\n",
      "2018-03-20 15:57:02,018 : INFO : EPOCH 4 - PROGRESS: at 61.80% examples, 308312 words/s, in_qsize 6, out_qsize 1\n",
      "2018-03-20 15:57:03,035 : INFO : EPOCH 4 - PROGRESS: at 65.51% examples, 314283 words/s, in_qsize 7, out_qsize 0\n",
      "2018-03-20 15:57:04,038 : INFO : EPOCH 4 - PROGRESS: at 69.54% examples, 321546 words/s, in_qsize 7, out_qsize 0\n",
      "2018-03-20 15:57:05,042 : INFO : EPOCH 4 - PROGRESS: at 73.56% examples, 328295 words/s, in_qsize 7, out_qsize 0\n",
      "2018-03-20 15:57:06,048 : INFO : EPOCH 4 - PROGRESS: at 77.16% examples, 332586 words/s, in_qsize 8, out_qsize 0\n",
      "2018-03-20 15:57:07,052 : INFO : EPOCH 4 - PROGRESS: at 79.86% examples, 332889 words/s, in_qsize 7, out_qsize 0\n",
      "2018-03-20 15:57:08,071 : INFO : EPOCH 4 - PROGRESS: at 82.99% examples, 334831 words/s, in_qsize 7, out_qsize 0\n",
      "2018-03-20 15:57:09,082 : INFO : EPOCH 4 - PROGRESS: at 86.42% examples, 337836 words/s, in_qsize 7, out_qsize 0\n",
      "2018-03-20 15:57:10,084 : INFO : EPOCH 4 - PROGRESS: at 90.42% examples, 343085 words/s, in_qsize 7, out_qsize 0\n",
      "2018-03-20 15:57:11,085 : INFO : EPOCH 4 - PROGRESS: at 94.49% examples, 348033 words/s, in_qsize 7, out_qsize 0\n",
      "2018-03-20 15:57:12,089 : INFO : EPOCH 4 - PROGRESS: at 98.56% examples, 352898 words/s, in_qsize 7, out_qsize 0\n",
      "2018-03-20 15:57:12,409 : INFO : worker thread finished; awaiting finish of 3 more threads\n",
      "2018-03-20 15:57:12,427 : INFO : worker thread finished; awaiting finish of 2 more threads\n",
      "2018-03-20 15:57:12,434 : INFO : worker thread finished; awaiting finish of 1 more threads\n",
      "2018-03-20 15:57:12,445 : INFO : worker thread finished; awaiting finish of 0 more threads\n",
      "2018-03-20 15:57:12,445 : INFO : EPOCH - 4 : training on 17798082 raw words (12749468 effective words) took 36.0s, 354550 effective words/s\n"
     ]
    },
    {
     "name": "stderr",
     "output_type": "stream",
     "text": [
      "2018-03-20 15:57:13,462 : INFO : EPOCH 5 - PROGRESS: at 3.99% examples, 503413 words/s, in_qsize 7, out_qsize 0\n",
      "2018-03-20 15:57:14,468 : INFO : EPOCH 5 - PROGRESS: at 7.88% examples, 496760 words/s, in_qsize 8, out_qsize 1\n",
      "2018-03-20 15:57:15,475 : INFO : EPOCH 5 - PROGRESS: at 12.01% examples, 504217 words/s, in_qsize 7, out_qsize 0\n",
      "2018-03-20 15:57:16,495 : INFO : EPOCH 5 - PROGRESS: at 16.06% examples, 504648 words/s, in_qsize 7, out_qsize 0\n",
      "2018-03-20 15:57:17,534 : INFO : EPOCH 5 - PROGRESS: at 19.66% examples, 489895 words/s, in_qsize 7, out_qsize 0\n",
      "2018-03-20 15:57:18,550 : INFO : EPOCH 5 - PROGRESS: at 22.37% examples, 464593 words/s, in_qsize 7, out_qsize 0\n",
      "2018-03-20 15:57:19,556 : INFO : EPOCH 5 - PROGRESS: at 25.91% examples, 462216 words/s, in_qsize 7, out_qsize 0\n",
      "2018-03-20 15:57:20,569 : INFO : EPOCH 5 - PROGRESS: at 29.93% examples, 467865 words/s, in_qsize 6, out_qsize 1\n",
      "2018-03-20 15:57:21,573 : INFO : EPOCH 5 - PROGRESS: at 33.55% examples, 465692 words/s, in_qsize 7, out_qsize 0\n",
      "2018-03-20 15:57:22,579 : INFO : EPOCH 5 - PROGRESS: at 37.68% examples, 471674 words/s, in_qsize 7, out_qsize 0\n",
      "2018-03-20 15:57:23,580 : INFO : EPOCH 5 - PROGRESS: at 40.75% examples, 464607 words/s, in_qsize 7, out_qsize 0\n",
      "2018-03-20 15:57:24,587 : INFO : EPOCH 5 - PROGRESS: at 44.15% examples, 462089 words/s, in_qsize 7, out_qsize 0\n",
      "2018-03-20 15:57:25,610 : INFO : EPOCH 5 - PROGRESS: at 47.17% examples, 455465 words/s, in_qsize 7, out_qsize 0\n",
      "2018-03-20 15:57:26,621 : INFO : EPOCH 5 - PROGRESS: at 49.88% examples, 447712 words/s, in_qsize 7, out_qsize 0\n",
      "2018-03-20 15:57:27,638 : INFO : EPOCH 5 - PROGRESS: at 52.94% examples, 443146 words/s, in_qsize 7, out_qsize 0\n",
      "2018-03-20 15:57:28,639 : INFO : EPOCH 5 - PROGRESS: at 57.04% examples, 448408 words/s, in_qsize 7, out_qsize 0\n",
      "2018-03-20 15:57:29,642 : INFO : EPOCH 5 - PROGRESS: at 60.97% examples, 451764 words/s, in_qsize 7, out_qsize 0\n",
      "2018-03-20 15:57:30,654 : INFO : EPOCH 5 - PROGRESS: at 64.79% examples, 453362 words/s, in_qsize 7, out_qsize 0\n",
      "2018-03-20 15:57:31,670 : INFO : EPOCH 5 - PROGRESS: at 68.83% examples, 456208 words/s, in_qsize 6, out_qsize 1\n",
      "2018-03-20 15:57:32,671 : INFO : EPOCH 5 - PROGRESS: at 72.84% examples, 459097 words/s, in_qsize 7, out_qsize 0\n",
      "2018-03-20 15:57:33,681 : INFO : EPOCH 5 - PROGRESS: at 76.98% examples, 462186 words/s, in_qsize 7, out_qsize 0\n",
      "2018-03-20 15:57:34,686 : INFO : EPOCH 5 - PROGRESS: at 81.10% examples, 464769 words/s, in_qsize 7, out_qsize 0\n",
      "2018-03-20 15:57:35,687 : INFO : EPOCH 5 - PROGRESS: at 85.00% examples, 466299 words/s, in_qsize 7, out_qsize 0\n",
      "2018-03-20 15:57:36,696 : INFO : EPOCH 5 - PROGRESS: at 89.10% examples, 468433 words/s, in_qsize 7, out_qsize 0\n",
      "2018-03-20 15:57:37,698 : INFO : EPOCH 5 - PROGRESS: at 92.95% examples, 469384 words/s, in_qsize 7, out_qsize 0\n",
      "2018-03-20 15:57:38,712 : INFO : EPOCH 5 - PROGRESS: at 97.12% examples, 471407 words/s, in_qsize 7, out_qsize 0\n",
      "2018-03-20 15:57:39,388 : INFO : worker thread finished; awaiting finish of 3 more threads\n",
      "2018-03-20 15:57:39,396 : INFO : worker thread finished; awaiting finish of 2 more threads\n",
      "2018-03-20 15:57:39,412 : INFO : worker thread finished; awaiting finish of 1 more threads\n",
      "2018-03-20 15:57:39,427 : INFO : worker thread finished; awaiting finish of 0 more threads\n",
      "2018-03-20 15:57:39,427 : INFO : EPOCH - 5 : training on 17798082 raw words (12750377 effective words) took 27.0s, 472683 effective words/s\n",
      "2018-03-20 15:57:39,428 : INFO : training on a 88990410 raw words (63747152 effective words) took 143.1s, 445529 effective words/s\n"
     ]
    }
   ],
   "source": [
    "# Initialize and train the model (this will take some time)\n",
    "from gensim.models import word2vec\n",
    "print(\"Training model...\")\n",
    "model = word2vec.Word2Vec(sentences, workers=num_workers, \\\n",
    "            size=num_features, min_count = min_word_count, \\\n",
    "            window = context, sample = downsampling)"
   ]
  },
  {
   "cell_type": "code",
   "execution_count": 85,
   "metadata": {},
   "outputs": [
    {
     "name": "stderr",
     "output_type": "stream",
     "text": [
      "2018-03-20 16:01:46,440 : INFO : precomputing L2-norms of word weight vectors\n"
     ]
    }
   ],
   "source": [
    "# If you don't plan to train the model any further, calling \n",
    "# init_sims will make the model much more memory-efficient.\n",
    "model.init_sims(replace=True)"
   ]
  },
  {
   "cell_type": "code",
   "execution_count": 86,
   "metadata": {},
   "outputs": [
    {
     "name": "stderr",
     "output_type": "stream",
     "text": [
      "2018-03-20 16:01:48,875 : INFO : saving Word2Vec object under 300features_40minwords_10context, separately None\n",
      "2018-03-20 16:01:48,878 : INFO : not storing attribute vectors_norm\n",
      "2018-03-20 16:01:48,879 : INFO : not storing attribute cum_table\n",
      "2018-03-20 16:01:49,553 : INFO : saved 300features_40minwords_10context\n"
     ]
    }
   ],
   "source": [
    "# It can be helpful to create a meaningful model name and \n",
    "# save the model for later use. You can load it later using Word2Vec.load()\n",
    "model_name = \"300features_40minwords_10context\"\n",
    "model.save(model_name)"
   ]
  },
  {
   "cell_type": "code",
   "execution_count": 90,
   "metadata": {},
   "outputs": [
    {
     "data": {
      "text/plain": [
       "'kitchen'"
      ]
     },
     "execution_count": 90,
     "metadata": {},
     "output_type": "execute_result"
    }
   ],
   "source": [
    "model.wv.doesnt_match(\"man woman child kitchen\".split())"
   ]
  },
  {
   "cell_type": "code",
   "execution_count": 89,
   "metadata": {},
   "outputs": [
    {
     "data": {
      "text/plain": [
       "'berlin'"
      ]
     },
     "execution_count": 89,
     "metadata": {},
     "output_type": "execute_result"
    }
   ],
   "source": [
    "model.wv.doesnt_match(\"france england germany berlin\".split())"
   ]
  },
  {
   "cell_type": "code",
   "execution_count": 91,
   "metadata": {},
   "outputs": [
    {
     "data": {
      "text/plain": [
       "[('woman', 0.6231456398963928),\n",
       " ('lad', 0.5931454300880432),\n",
       " ('lady', 0.5881258845329285),\n",
       " ('soldier', 0.5257889032363892),\n",
       " ('guy', 0.5224387049674988),\n",
       " ('farmer', 0.5221095681190491),\n",
       " ('businessman', 0.5186640024185181),\n",
       " ('sailor', 0.511244535446167),\n",
       " ('person', 0.5107656121253967),\n",
       " ('men', 0.5106342434883118)]"
      ]
     },
     "execution_count": 91,
     "metadata": {},
     "output_type": "execute_result"
    }
   ],
   "source": [
    "model.wv.most_similar('man')"
   ]
  },
  {
   "cell_type": "code",
   "execution_count": 93,
   "metadata": {},
   "outputs": [
    {
     "data": {
      "text/plain": [
       "[('princess', 0.6704393625259399),\n",
       " ('bride', 0.6298378705978394),\n",
       " ('maid', 0.6206814646720886),\n",
       " ('mistress', 0.6033903956413269),\n",
       " ('kristel', 0.595789909362793),\n",
       " ('regina', 0.5935704708099365),\n",
       " ('belle', 0.5932125449180603),\n",
       " ('stepmother', 0.5913530588150024),\n",
       " ('eva', 0.5894976854324341),\n",
       " ('victoria', 0.5854543447494507)]"
      ]
     },
     "execution_count": 93,
     "metadata": {},
     "output_type": "execute_result"
    }
   ],
   "source": [
    "model.wv.most_similar('queen')"
   ]
  },
  {
   "cell_type": "code",
   "execution_count": 99,
   "metadata": {},
   "outputs": [
    {
     "data": {
      "text/plain": [
       "[('terrible', 0.7584094405174255),\n",
       " ('horrible', 0.7371830940246582),\n",
       " ('dreadful', 0.726965606212616),\n",
       " ('atrocious', 0.7194123864173889),\n",
       " ('abysmal', 0.7061768174171448),\n",
       " ('horrendous', 0.6896570920944214),\n",
       " ('horrid', 0.6790741086006165),\n",
       " ('appalling', 0.6767245531082153),\n",
       " ('lousy', 0.6429832577705383),\n",
       " ('crappy', 0.6205602884292603)]"
      ]
     },
     "execution_count": 99,
     "metadata": {},
     "output_type": "execute_result"
    }
   ],
   "source": [
    "model.wv.most_similar('awful')"
   ]
  },
  {
   "cell_type": "code",
   "execution_count": null,
   "metadata": {},
   "outputs": [],
   "source": []
  }
 ],
 "metadata": {
  "kernelspec": {
   "display_name": "Python 3",
   "language": "python",
   "name": "python3"
  },
  "language_info": {
   "codemirror_mode": {
    "name": "ipython",
    "version": 3
   },
   "file_extension": ".py",
   "mimetype": "text/x-python",
   "name": "python",
   "nbconvert_exporter": "python",
   "pygments_lexer": "ipython3",
   "version": "3.5.2"
  }
 },
 "nbformat": 4,
 "nbformat_minor": 2
}
